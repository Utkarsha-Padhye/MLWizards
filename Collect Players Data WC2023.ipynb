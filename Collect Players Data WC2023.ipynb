{
 "cells": [
  {
   "cell_type": "code",
   "execution_count": 59,
   "id": "5c79822e",
   "metadata": {},
   "outputs": [],
   "source": [
    "# Library for opening url and creating\n",
    "# requests\n",
    "import urllib.request\n",
    "\n",
    "# pretty-print python data structures\n",
    "from pprint import pprint\n",
    "\n",
    "# for parsing all the tables present\n",
    "# on the website\n",
    "from html_table_parser.parser import HTMLTableParser\n",
    "\n",
    "# for converting the parsed data in a\n",
    "# pandas dataframe\n",
    "import pandas as pd"
   ]
  },
  {
   "cell_type": "markdown",
   "id": "a9ba7006",
   "metadata": {},
   "source": [
    "##### Scraping Player information - Batting inning by inning"
   ]
  },
  {
   "cell_type": "code",
   "execution_count": 60,
   "id": "3a835d0c",
   "metadata": {},
   "outputs": [],
   "source": [
    "# 1) Rohit Sharma"
   ]
  },
  {
   "cell_type": "code",
   "execution_count": 61,
   "id": "da9be989",
   "metadata": {},
   "outputs": [],
   "source": [
    "def url_get_contents(url):\n",
    "    req = urllib.request.Request(url=url)\n",
    "    f = urllib.request.urlopen(req)\n",
    "    return f.read()\n",
    "\n",
    "def get_player_inning_by_id(pid, url):\n",
    "    #url = 'https://stats.espncricinfo.com/ci/engine/player/{}.html?class=2;template=results;type=batting;view=innings'.format(pid)\n",
    "    xhtml = url_get_contents(url).decode('utf-8')\n",
    "    table_parser = HTMLTableParser()\n",
    "    table_parser.feed(xhtml)\n",
    "    df = pd.DataFrame(table_parser.tables[3])\n",
    "    return df\n",
    "\n",
    "\n"
   ]
  },
  {
   "cell_type": "code",
   "execution_count": 62,
   "id": "c99d9e0b",
   "metadata": {},
   "outputs": [],
   "source": [
    "##### in below cell, give player id, and the url"
   ]
  },
  {
   "cell_type": "code",
   "execution_count": 98,
   "id": "baed9eac",
   "metadata": {},
   "outputs": [],
   "source": [
    "#rohit sharma inning by inning\n",
    "def get_player(pid, player, ptype):\n",
    "    '''\n",
    "    1. To get speicfic player information visit site \"https://stats.espncricinfo.com/ci/engine/stats/index.html:\n",
    "    2. Search for specific player\n",
    "    3. copy the player id from url and call abobve function\n",
    "    4. once executed save the result in csv file by wring df.tocsv\n",
    "    5. This function is strictly for only batsman depcific information\n",
    "    '''\n",
    "    pid = pid\n",
    "    url = 'https://stats.espncricinfo.com/ci/engine/player/{}.html?class=2;template=results;type={};view=innings'.format(pid, ptype)\n",
    "    df_all = get_player_inning_by_id(pid, url)\n",
    "\n",
    "    #rohit sharma inning by inning at home\n",
    "    url = 'https://stats.espncricinfo.com/ci/engine/player/{}.html?class=2;home_or_away=1;template=results;type={};view=innings'.format(pid, ptype)\n",
    "    df_home = get_player_inning_by_id(pid, url)\n",
    "\n",
    "    #rohit sharma inning by inning - away venue\n",
    "    url = 'https://stats.espncricinfo.com/ci/engine/player/{}.html?class=2;home_or_away=2;home_or_away=3;template=results;type={};view=innings'.format(pid, ptype)\n",
    "    df_away = get_player_inning_by_id(pid, url)\n",
    "\n",
    "    df_final = pd.DataFrame()\n",
    "    df_final = df_final.append([df_all,df_home,df_away])\n",
    "    df_final.to_csv('F:\\\\ML_Wizards\\\\{}_inning_by_inning_{}.csv'.format(player, ptype))"
   ]
  },
  {
   "cell_type": "code",
   "execution_count": 99,
   "id": "e7314b0b",
   "metadata": {},
   "outputs": [],
   "source": [
    "#get_player(34102, 'rohit_sharma')"
   ]
  },
  {
   "cell_type": "code",
   "execution_count": 100,
   "id": "477bd213",
   "metadata": {},
   "outputs": [],
   "source": [
    "#df_away.info()"
   ]
  },
  {
   "cell_type": "code",
   "execution_count": 101,
   "id": "f5da4d50",
   "metadata": {},
   "outputs": [],
   "source": [
    "players_dict = {\n",
    "    34102 : 'Rohit_Sharma',\n",
    "    253802 : 'Virat_kohli',\n",
    "    1070173 : 'Shubhman_Gill',\n",
    "    642519 : 'Shreyas_Iyer',\n",
    "    422108 : 'KL_Rahul',\n",
    "    446507 : 'Suryakumar_Yadav',\n",
    "    720471 : 'Ishan_Kishan',\n",
    "    234675 : 'Ravindra_Jadeja'\n",
    "}"
   ]
  },
  {
   "cell_type": "code",
   "execution_count": 102,
   "id": "79579ad0",
   "metadata": {},
   "outputs": [],
   "source": [
    "for pid, player in players_dict.items():\n",
    "    get_player(pid, player, 'batting')\n",
    "    "
   ]
  },
  {
   "cell_type": "markdown",
   "id": "08f1b242",
   "metadata": {},
   "source": [
    "##### Scraping Player information - Bowlling inning by inning"
   ]
  },
  {
   "cell_type": "code",
   "execution_count": 103,
   "id": "7d1bdf18",
   "metadata": {},
   "outputs": [],
   "source": [
    "players_dict = {\n",
    "    625383 : 'Jasprit_Bumrah',\n",
    "    940973 : 'Mohammed Siraj',\n",
    "    234675 : 'Ravindra_Jadeja',\n",
    "    26421  : 'R_Ashwin',\n",
    "    475281 : 'Shardul_Thakur',\n",
    "    481896 : 'Mohammed Shami',\n",
    "    559235 : 'Kuldeep_Yadav',\n",
    "}\n",
    "\n",
    "for pid, player in players_dict.items():\n",
    "    get_player(pid, player, 'bowling')\n",
    "    "
   ]
  },
  {
   "cell_type": "code",
   "execution_count": null,
   "id": "ae7702a5",
   "metadata": {},
   "outputs": [],
   "source": [
    "#### Also you can collect further data like \n",
    "# ground averages for each team in india\n",
    "# ground win percentages again each oppoenent participating in this world cup etc.."
   ]
  },
  {
   "cell_type": "code",
   "execution_count": null,
   "id": "89d48598",
   "metadata": {},
   "outputs": [],
   "source": []
  },
  {
   "cell_type": "code",
   "execution_count": null,
   "id": "bcbeeaf6",
   "metadata": {},
   "outputs": [],
   "source": []
  }
 ],
 "metadata": {
  "kernelspec": {
   "display_name": "Python 3 (ipykernel)",
   "language": "python",
   "name": "python3"
  },
  "language_info": {
   "codemirror_mode": {
    "name": "ipython",
    "version": 3
   },
   "file_extension": ".py",
   "mimetype": "text/x-python",
   "name": "python",
   "nbconvert_exporter": "python",
   "pygments_lexer": "ipython3",
   "version": "3.8.0"
  }
 },
 "nbformat": 4,
 "nbformat_minor": 5
}
